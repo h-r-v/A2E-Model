{
 "cells": [
  {
   "cell_type": "code",
   "execution_count": null,
   "metadata": {},
   "outputs": [],
   "source": [
    "'''\n",
    "https://github.com/vedantagarwal4\n",
    "https://github.com/h-r-v\n",
    "'''"
   ]
  },
  {
   "cell_type": "code",
   "execution_count": 1,
   "metadata": {},
   "outputs": [],
   "source": [
    "import os\n",
    "import cv2\n",
    "import random\n",
    "import matplotlib.pyplot as plt\n",
    "import numpy as np\n",
    "import pandas as pd"
   ]
  },
  {
   "cell_type": "code",
   "execution_count": 2,
   "metadata": {},
   "outputs": [],
   "source": [
    "rootdir = os.getcwd()\n",
    "\n",
    "datadir = os.path.join( rootdir, \"Data\")\n",
    "newdatadir = os.path.join( rootdir, \"Clean Data\")\n",
    "newdatafile = os.path.join( newdatadir, \"data.csv\")\n",
    "\n",
    "os.chdir(datadir)\n",
    "\n",
    "assert not os.path.exists(newdatafile) # File already exists. You risk appending shit to it.\n",
    "\n",
    "if not os.path.exists(newdatadir):\n",
    "    os.makedirs(newdatadir)"
   ]
  },
  {
   "cell_type": "code",
   "execution_count": 3,
   "metadata": {},
   "outputs": [],
   "source": [
    "df = {\"path\": [], \"label\": []}"
   ]
  },
  {
   "cell_type": "code",
   "execution_count": 4,
   "metadata": {
    "scrolled": true
   },
   "outputs": [],
   "source": [
    "subdirs = os.listdir()\n",
    "\n",
    "i=0\n",
    "for subdir in subdirs:\n",
    "    \n",
    "    os.chdir(datadir)\n",
    "    \n",
    "    if os.path.isdir(subdir):\n",
    "        \n",
    "        newcwd = os.path.join( datadir, subdir)\n",
    "        os.chdir(newcwd)\n",
    "        \n",
    "        for pic in os.listdir():\n",
    "            if random.random() < 1.1:\n",
    "                i+=1\n",
    "                \n",
    "                picpath = os.path.join(os.getcwd(), pic)\n",
    "                df[\"path\"].append(picpath)\n",
    "                df[\"label\"].append(subdir)\n",
    "                \n",
    "os.chdir(datadir)"
   ]
  },
  {
   "cell_type": "code",
   "execution_count": 5,
   "metadata": {},
   "outputs": [
    {
     "name": "stdout",
     "output_type": "stream",
     "text": [
      "D:\\A2E\\AtoE v5\\Data\n",
      "D:\\A2E\\AtoE v5\\Clean Data\n",
      "D:\\A2E\\AtoE v5\\Data\n"
     ]
    }
   ],
   "source": [
    "print(datadir)\n",
    "print(newdatadir)\n",
    "print(os.getcwd())"
   ]
  },
  {
   "cell_type": "code",
   "execution_count": 6,
   "metadata": {},
   "outputs": [],
   "source": [
    "df_ = pd.DataFrame.from_dict(df)"
   ]
  },
  {
   "cell_type": "code",
   "execution_count": 7,
   "metadata": {},
   "outputs": [
    {
     "data": {
      "text/html": [
       "<div>\n",
       "<style scoped>\n",
       "    .dataframe tbody tr th:only-of-type {\n",
       "        vertical-align: middle;\n",
       "    }\n",
       "\n",
       "    .dataframe tbody tr th {\n",
       "        vertical-align: top;\n",
       "    }\n",
       "\n",
       "    .dataframe thead th {\n",
       "        text-align: right;\n",
       "    }\n",
       "</style>\n",
       "<table border=\"1\" class=\"dataframe\">\n",
       "  <thead>\n",
       "    <tr style=\"text-align: right;\">\n",
       "      <th></th>\n",
       "      <th>path</th>\n",
       "      <th>label</th>\n",
       "    </tr>\n",
       "  </thead>\n",
       "  <tbody>\n",
       "    <tr>\n",
       "      <th>0</th>\n",
       "      <td>D:\\A2E\\AtoE v5\\Data\\A\\A-H (1).png</td>\n",
       "      <td>A</td>\n",
       "    </tr>\n",
       "    <tr>\n",
       "      <th>1</th>\n",
       "      <td>D:\\A2E\\AtoE v5\\Data\\A\\A-H (10).png</td>\n",
       "      <td>A</td>\n",
       "    </tr>\n",
       "    <tr>\n",
       "      <th>2</th>\n",
       "      <td>D:\\A2E\\AtoE v5\\Data\\A\\A-H (11).png</td>\n",
       "      <td>A</td>\n",
       "    </tr>\n",
       "    <tr>\n",
       "      <th>3</th>\n",
       "      <td>D:\\A2E\\AtoE v5\\Data\\A\\A-H (12).png</td>\n",
       "      <td>A</td>\n",
       "    </tr>\n",
       "    <tr>\n",
       "      <th>4</th>\n",
       "      <td>D:\\A2E\\AtoE v5\\Data\\A\\A-H (13).png</td>\n",
       "      <td>A</td>\n",
       "    </tr>\n",
       "    <tr>\n",
       "      <th>...</th>\n",
       "      <td>...</td>\n",
       "      <td>...</td>\n",
       "    </tr>\n",
       "    <tr>\n",
       "      <th>1387</th>\n",
       "      <td>D:\\A2E\\AtoE v5\\Data\\Z\\Z-V (5).png</td>\n",
       "      <td>Z</td>\n",
       "    </tr>\n",
       "    <tr>\n",
       "      <th>1388</th>\n",
       "      <td>D:\\A2E\\AtoE v5\\Data\\Z\\Z-V (6).png</td>\n",
       "      <td>Z</td>\n",
       "    </tr>\n",
       "    <tr>\n",
       "      <th>1389</th>\n",
       "      <td>D:\\A2E\\AtoE v5\\Data\\Z\\Z-V (7).png</td>\n",
       "      <td>Z</td>\n",
       "    </tr>\n",
       "    <tr>\n",
       "      <th>1390</th>\n",
       "      <td>D:\\A2E\\AtoE v5\\Data\\Z\\Z-V (8).png</td>\n",
       "      <td>Z</td>\n",
       "    </tr>\n",
       "    <tr>\n",
       "      <th>1391</th>\n",
       "      <td>D:\\A2E\\AtoE v5\\Data\\Z\\Z-V (9).png</td>\n",
       "      <td>Z</td>\n",
       "    </tr>\n",
       "  </tbody>\n",
       "</table>\n",
       "<p>1392 rows × 2 columns</p>\n",
       "</div>"
      ],
      "text/plain": [
       "                                    path label\n",
       "0      D:\\A2E\\AtoE v5\\Data\\A\\A-H (1).png     A\n",
       "1     D:\\A2E\\AtoE v5\\Data\\A\\A-H (10).png     A\n",
       "2     D:\\A2E\\AtoE v5\\Data\\A\\A-H (11).png     A\n",
       "3     D:\\A2E\\AtoE v5\\Data\\A\\A-H (12).png     A\n",
       "4     D:\\A2E\\AtoE v5\\Data\\A\\A-H (13).png     A\n",
       "...                                  ...   ...\n",
       "1387   D:\\A2E\\AtoE v5\\Data\\Z\\Z-V (5).png     Z\n",
       "1388   D:\\A2E\\AtoE v5\\Data\\Z\\Z-V (6).png     Z\n",
       "1389   D:\\A2E\\AtoE v5\\Data\\Z\\Z-V (7).png     Z\n",
       "1390   D:\\A2E\\AtoE v5\\Data\\Z\\Z-V (8).png     Z\n",
       "1391   D:\\A2E\\AtoE v5\\Data\\Z\\Z-V (9).png     Z\n",
       "\n",
       "[1392 rows x 2 columns]"
      ]
     },
     "execution_count": 7,
     "metadata": {},
     "output_type": "execute_result"
    }
   ],
   "source": [
    "df_"
   ]
  },
  {
   "cell_type": "code",
   "execution_count": 8,
   "metadata": {},
   "outputs": [],
   "source": [
    "df_.to_csv(newdatafile, index= False)"
   ]
  },
  {
   "cell_type": "code",
   "execution_count": null,
   "metadata": {},
   "outputs": [],
   "source": []
  }
 ],
 "metadata": {
  "kernelspec": {
   "display_name": "Python 3",
   "language": "python",
   "name": "python3"
  },
  "language_info": {
   "codemirror_mode": {
    "name": "ipython",
    "version": 3
   },
   "file_extension": ".py",
   "mimetype": "text/x-python",
   "name": "python",
   "nbconvert_exporter": "python",
   "pygments_lexer": "ipython3",
   "version": "3.7.7"
  }
 },
 "nbformat": 4,
 "nbformat_minor": 4
}
