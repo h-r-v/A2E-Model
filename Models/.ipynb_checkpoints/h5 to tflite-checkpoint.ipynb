{
 "cells": [
  {
   "cell_type": "code",
   "execution_count": 1,
   "metadata": {},
   "outputs": [
    {
     "name": "stdout",
     "output_type": "stream",
     "text": [
      "phone_VGG16--92--08-03-03-11.tflite ready\n"
     ]
    }
   ],
   "source": [
    "import tensorflow as tf\n",
    "\n",
    "modelname = 'VGG16--92--08-03-03-11'\n",
    "\n",
    "model = tf.keras.models.load_model( modelname+'.h5' )\n",
    "converter = tf.lite.TFLiteConverter.from_keras_model(model)\n",
    "tflite_model = converter.convert()\n",
    "open( \"phone_\" + modelname + \".tflite\", \"wb\").write(tflite_model)\n",
    "\n",
    "print( \"phone_\" + modelname + \".tflite\", \"ready\")"
   ]
  },
  {
   "cell_type": "code",
   "execution_count": null,
   "metadata": {},
   "outputs": [],
   "source": []
  }
 ],
 "metadata": {
  "kernelspec": {
   "display_name": "Python 3",
   "language": "python",
   "name": "python3"
  },
  "language_info": {
   "codemirror_mode": {
    "name": "ipython",
    "version": 3
   },
   "file_extension": ".py",
   "mimetype": "text/x-python",
   "name": "python",
   "nbconvert_exporter": "python",
   "pygments_lexer": "ipython3",
   "version": "3.7.7"
  }
 },
 "nbformat": 4,
 "nbformat_minor": 4
}
