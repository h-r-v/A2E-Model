{
 "cells": [
  {
   "cell_type": "code",
   "execution_count": null,
   "metadata": {},
   "outputs": [],
   "source": [
    "import pandas as pd\n",
    "import matplotlib.pyplot as plt\n",
    "import os\n",
    "import numpy as np\n",
    "import tensorflow as tf\n",
    "seed = 4"
   ]
  },
  {
   "cell_type": "code",
   "execution_count": null,
   "metadata": {},
   "outputs": [],
   "source": [
    "datafile = os.path.join( os.getcwd(), \"Clean Data\")\n",
    "datafile = os.path.join( datafile, \"data.csv\")\n",
    "\n",
    "df = pd.read_csv(datafile)"
   ]
  },
  {
   "cell_type": "code",
   "execution_count": null,
   "metadata": {},
   "outputs": [],
   "source": [
    "df.shape"
   ]
  },
  {
   "cell_type": "code",
   "execution_count": null,
   "metadata": {},
   "outputs": [],
   "source": [
    "# TRAIN-VAL-TEST\n",
    "\n",
    "trainsplit = 0.7\n",
    "valsplit = 0.15\n",
    "\n",
    "train, validate, test = np.split(df.sample(frac=1, random_state=seed), [ int(trainsplit*len(df)), int((trainsplit+valsplit)*len(df))])\n",
    "\n",
    "assert train['label'].nunique()==26 and validate['label'].nunique()==26 and test['label'].nunique()==26\n",
    "\n",
    "train.shape, validate.shape, test.shape"
   ]
  },
  {
   "cell_type": "code",
   "execution_count": null,
   "metadata": {},
   "outputs": [],
   "source": [
    "train.head()"
   ]
  },
  {
   "cell_type": "code",
   "execution_count": null,
   "metadata": {},
   "outputs": [],
   "source": [
    "from tensorflow.keras.preprocessing.image import ImageDataGenerator"
   ]
  },
  {
   "cell_type": "code",
   "execution_count": null,
   "metadata": {
    "scrolled": true
   },
   "outputs": [],
   "source": [
    "#AUGMENTATION\n",
    "\n",
    "batch_size=16\n",
    "target_size=(100, 100)\n",
    "color_mode=\"rgb\"\n",
    "\n",
    "train_datagen = ImageDataGenerator(\n",
    "        rescale=1./255,\n",
    "        zoom_range=0.2,\n",
    "        horizontal_flip=True,\n",
    "        rotation_range=10)\n",
    "\n",
    "train_generator = train_datagen.flow_from_dataframe(\n",
    "    dataframe=train,\n",
    "    directory=None,\n",
    "    x_col=\"path\",\n",
    "    y_col=\"label\",\n",
    "    target_size=target_size,\n",
    "    color_mode=color_mode,\n",
    "    class_mode=\"categorical\",\n",
    "    batch_size=batch_size,\n",
    "    #save_to_dir = \"preview\",\n",
    "    #save_prefix = \"preview\",\n",
    "    #save_format = \"png\"\n",
    ")\n",
    "\n",
    "test_datagen = ImageDataGenerator(rescale=1./255)\n",
    "\n",
    "validation_generator = test_datagen.flow_from_dataframe(\n",
    "    dataframe=validate,\n",
    "    directory=None,\n",
    "    x_col=\"path\",\n",
    "    y_col=\"label\",\n",
    "    target_size=target_size,\n",
    "    color_mode=color_mode,\n",
    "    class_mode=\"categorical\",\n",
    "    batch_size=batch_size,\n",
    ")\n",
    "\n",
    "test_generator = test_datagen.flow_from_dataframe(\n",
    "    dataframe=test,\n",
    "    directory=None,\n",
    "    x_col=\"path\",\n",
    "    y_col=\"label\",\n",
    "    target_size=target_size,\n",
    "    color_mode=color_mode,\n",
    "    class_mode=\"categorical\",\n",
    "    batch_size=batch_size,\n",
    ")\n",
    "\n",
    "'''\n",
    "for i,idk in enumerate(X):\n",
    "    plt.imshow(idk[0][0].reshape((1000,1000)))\n",
    "    plt.show()\n",
    "    if i==10:\n",
    "        break\n",
    "'''\n",
    "'.'"
   ]
  },
  {
   "cell_type": "code",
   "execution_count": null,
   "metadata": {},
   "outputs": [],
   "source": [
    "#SHALLOW CNN\n",
    "\n",
    "from tensorflow.keras.models import Sequential\n",
    "from tensorflow.keras.layers import Conv2D, MaxPooling2D\n",
    "from tensorflow.keras.layers import Activation, Dropout, Flatten, Dense\n",
    "\n",
    "model = Sequential()\n",
    "model.add(Conv2D(32, (3, 3), input_shape=(100, 100, 1)))\n",
    "model.add(Activation('relu'))\n",
    "model.add(MaxPooling2D(pool_size=(2, 2)))\n",
    "\n",
    "model.add(Conv2D(64, (3, 3)))\n",
    "model.add(Activation('relu'))\n",
    "model.add(MaxPooling2D(pool_size=(2, 2)))\n",
    "\n",
    "model.add(Conv2D(64, (3, 3)))\n",
    "model.add(Activation('relu'))\n",
    "model.add(MaxPooling2D(pool_size=(2, 2)))\n",
    "\n",
    "model.add(Flatten())\n",
    "model.add(Dense(64))\n",
    "model.add(Activation('relu'))\n",
    "model.add(Dense(26))\n",
    "model.add(Activation('softmax'))\n",
    "\n",
    "model.compile(\n",
    "              loss='categorical_crossentropy', #becase this is not a multilabel dataset.\n",
    "              optimizer=tf.keras.optimizers.Adam(learning_rate=0.001, amsgrad=True),\n",
    "              metrics=['acc','categorical_accuracy']\n",
    "            )\n",
    "model.summary()"
   ]
  },
  {
   "cell_type": "code",
   "execution_count": null,
   "metadata": {
    "scrolled": true
   },
   "outputs": [],
   "source": [
    "model_hist = model.fit( train_generator, \n",
    "                                 steps_per_epoch=train.shape[0] // batch_size, \n",
    "                                 epochs=30, \n",
    "                                 validation_data=validation_generator, \n",
    "                                 validation_steps=validate.shape[0] // batch_size)"
   ]
  },
  {
   "cell_type": "code",
   "execution_count": 1,
   "metadata": {},
   "outputs": [
    {
     "ename": "NameError",
     "evalue": "name 'validate' is not defined",
     "output_type": "error",
     "traceback": [
      "\u001b[1;31m---------------------------------------------------------------------------\u001b[0m",
      "\u001b[1;31mNameError\u001b[0m                                 Traceback (most recent call last)",
      "\u001b[1;32m<ipython-input-1-9ae391277efc>\u001b[0m in \u001b[0;36m<module>\u001b[1;34m\u001b[0m\n\u001b[1;32m----> 1\u001b[1;33m \u001b[0mvalidate\u001b[0m\u001b[1;33m.\u001b[0m\u001b[0mgroupby\u001b[0m\u001b[1;33m(\u001b[0m\u001b[1;34m'label'\u001b[0m\u001b[1;33m)\u001b[0m\u001b[1;33m.\u001b[0m\u001b[0mnunique\u001b[0m\u001b[1;33m(\u001b[0m\u001b[1;33m)\u001b[0m\u001b[1;33m\u001b[0m\u001b[1;33m\u001b[0m\u001b[0m\n\u001b[0m",
      "\u001b[1;31mNameError\u001b[0m: name 'validate' is not defined"
     ]
    }
   ],
   "source": [
    "validate.groupby('label').nunique()"
   ]
  },
  {
   "cell_type": "code",
   "execution_count": null,
   "metadata": {},
   "outputs": [],
   "source": []
  }
 ],
 "metadata": {
  "kernelspec": {
   "display_name": "Python 3",
   "language": "python",
   "name": "python3"
  },
  "language_info": {
   "codemirror_mode": {
    "name": "ipython",
    "version": 3
   },
   "file_extension": ".py",
   "mimetype": "text/x-python",
   "name": "python",
   "nbconvert_exporter": "python",
   "pygments_lexer": "ipython3",
   "version": "3.7.7"
  }
 },
 "nbformat": 4,
 "nbformat_minor": 4
}
