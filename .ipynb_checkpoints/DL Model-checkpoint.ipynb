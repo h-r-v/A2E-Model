{
 "cells": [
  {
   "cell_type": "code",
   "execution_count": 1,
   "metadata": {},
   "outputs": [],
   "source": [
    "import pandas as pd\n",
    "import matplotlib.pyplot as plt\n",
    "import os\n",
    "import numpy as np\n",
    "seed = 1"
   ]
  },
  {
   "cell_type": "code",
   "execution_count": 26,
   "metadata": {},
   "outputs": [],
   "source": [
    "datafile = os.path.join( os.getcwd(), \"Clean Data\")\n",
    "datafile = os.path.join( datafile, \"data.csv\")\n",
    "\n",
    "df = pd.read_csv(datafile)"
   ]
  },
  {
   "cell_type": "code",
   "execution_count": 27,
   "metadata": {},
   "outputs": [
    {
     "data": {
      "text/plain": [
       "(955, 2)"
      ]
     },
     "execution_count": 27,
     "metadata": {},
     "output_type": "execute_result"
    }
   ],
   "source": [
    "df.shape"
   ]
  },
  {
   "cell_type": "code",
   "execution_count": 46,
   "metadata": {},
   "outputs": [
    {
     "data": {
      "text/plain": [
       "((668, 2), (143, 2), (144, 2))"
      ]
     },
     "execution_count": 46,
     "metadata": {},
     "output_type": "execute_result"
    }
   ],
   "source": [
    "trainsplit = 0.7\n",
    "valsplit = 0.15\n",
    "\n",
    "train, validate, test = np.split(df.sample(frac=1, random_state=seed), [ int(trainsplit*len(df)), int((trainsplit+valsplit)*len(df))])\n",
    "\n",
    "assert train['label'].nunique()==26 and validate['label'].nunique()==26 and test['label'].nunique()==26\n",
    "\n",
    "train.shape, validate.shape, test.shape"
   ]
  },
  {
   "cell_type": "code",
   "execution_count": 48,
   "metadata": {},
   "outputs": [
    {
     "name": "stdout",
     "output_type": "stream",
     "text": [
      "                                              path label\n",
      "241  D:\\A2E\\AtoE v3\\Data\\G\\IMG-20200709-WA0116.jpg     G\n",
      "846                    D:\\A2E\\AtoE v3\\Data\\X\\3.PNG     X\n",
      "415  D:\\A2E\\AtoE v3\\Data\\L\\IMG_20200708_184502.jpg     L\n",
      "385  D:\\A2E\\AtoE v3\\Data\\K\\IMG_20200709_093322.jpg     K\n",
      "563  D:\\A2E\\AtoE v3\\Data\\P\\IMG-20200709-WA0086.jpg     P\n",
      "                                              path label\n",
      "458  D:\\A2E\\AtoE v3\\Data\\M\\IMG_20200709_093429.jpg     M\n",
      "662      D:\\A2E\\AtoE v3\\Data\\S\\20200708_220337.jpg     S\n",
      "724  D:\\A2E\\AtoE v3\\Data\\T\\IMG_20200709_113638.jpg     T\n",
      "465                D:\\A2E\\AtoE v3\\Data\\M\\M1470.jpg     M\n",
      "163                D:\\A2E\\AtoE v3\\Data\\E\\E1206.jpg     E\n",
      "                                              path label\n",
      "714  D:\\A2E\\AtoE v3\\Data\\T\\IMG_20200708_131853.jpg     T\n",
      "152      D:\\A2E\\AtoE v3\\Data\\E\\20200708_172511.jpg     E\n",
      "857  D:\\A2E\\AtoE v3\\Data\\X\\IMG_20200708_131931.jpg     X\n",
      "10                     D:\\A2E\\AtoE v3\\Data\\A\\7.jpg     A\n",
      "269              D:\\A2E\\AtoE v3\\Data\\H\\images.jpeg     H\n"
     ]
    }
   ],
   "source": []
  },
  {
   "cell_type": "code",
   "execution_count": null,
   "metadata": {},
   "outputs": [],
   "source": []
  }
 ],
 "metadata": {
  "kernelspec": {
   "display_name": "Python 3",
   "language": "python",
   "name": "python3"
  },
  "language_info": {
   "codemirror_mode": {
    "name": "ipython",
    "version": 3
   },
   "file_extension": ".py",
   "mimetype": "text/x-python",
   "name": "python",
   "nbconvert_exporter": "python",
   "pygments_lexer": "ipython3",
   "version": "3.7.7"
  }
 },
 "nbformat": 4,
 "nbformat_minor": 4
}
