{
 "cells": [
  {
   "cell_type": "code",
   "execution_count": null,
   "metadata": {},
   "outputs": [],
   "source": [
    "'''\n",
    "https://github.com/vedantagarwal4\n",
    "https://github.com/h-r-v\n",
    "'''"
   ]
  },
  {
   "cell_type": "code",
   "execution_count": 1,
   "metadata": {},
   "outputs": [],
   "source": [
    "import cv2\n",
    "import os\n",
    "import matplotlib.pyplot as plt"
   ]
  },
  {
   "cell_type": "code",
   "execution_count": 2,
   "metadata": {},
   "outputs": [
    {
     "name": "stdout",
     "output_type": "stream",
     "text": [
      "D:\\A2E\\AtoE v4\n"
     ]
    }
   ],
   "source": [
    "print(os.getcwd())\n",
    "root = os.getcwd()\n",
    "\n",
    "label = 'X'"
   ]
  },
  {
   "cell_type": "code",
   "execution_count": 3,
   "metadata": {},
   "outputs": [
    {
     "name": "stdout",
     "output_type": "stream",
     "text": [
      "D:\\A2E\\AtoE v4\\Webcam Data\\X\n"
     ]
    }
   ],
   "source": [
    "datadir = os.path.join(root, \"Webcam Data\")\n",
    "datasubdir = os.path.join(datadir,label)\n",
    "\n",
    "def check():\n",
    "    if not os.path.exists(datadir):\n",
    "        os.mkdir(datadir)\n",
    "\n",
    "    if not os.path.exists(datasubdir):\n",
    "        os.mkdir(datasubdir)    \n",
    "    \n",
    "print(datasubdir)"
   ]
  },
  {
   "cell_type": "code",
   "execution_count": null,
   "metadata": {},
   "outputs": [
    {
     "name": "stdout",
     "output_type": "stream",
     "text": [
      "D:\\A2E\\AtoE v4\\Webcam Data\\X\\X_0.png written\n",
      "D:\\A2E\\AtoE v4\\Webcam Data\\X\\X_1.png written\n",
      "D:\\A2E\\AtoE v4\\Webcam Data\\X\\X_2.png written\n",
      "D:\\A2E\\AtoE v4\\Webcam Data\\X\\X_3.png written\n",
      "D:\\A2E\\AtoE v4\\Webcam Data\\X\\X_4.png written\n",
      "D:\\A2E\\AtoE v4\\Webcam Data\\X\\X_5.png written\n",
      "D:\\A2E\\AtoE v4\\Webcam Data\\X\\X_6.png written\n",
      "D:\\A2E\\AtoE v4\\Webcam Data\\X\\X_7.png written\n"
     ]
    }
   ],
   "source": [
    "cap = cv2.VideoCapture(0)\n",
    "counter = 0\n",
    "while(True):\n",
    "    \n",
    "    ret,frame = cap.read()\n",
    "    \n",
    "    start_point = (430,50)\n",
    "    width = 200\n",
    "    end_point = (start_point[0]+width, start_point[1]+width) \n",
    "    \n",
    "    cv2.rectangle(frame, start_point, end_point, (0, 255, 255), 2)\n",
    "    \n",
    "    cv2.imshow(\"Capturing Image\", frame)\n",
    "    \n",
    "    k = cv2.waitKey(1)\n",
    "    \n",
    "    if k%256 == 27:\n",
    "        break;\n",
    "    \n",
    "    elif k%256 == 32:\n",
    "        img_name = os.path.join( datasubdir, \"{}_{}.png\".format(label ,counter) )\n",
    "        \n",
    "        check()\n",
    "        cv2.imwrite(img_name,frame[start_point[1]:end_point[1],start_point[0]:end_point[0]])\n",
    "        \n",
    "        print(\"{} written\".format(img_name))\n",
    "        counter+=1\n",
    "\n",
    "cap.release()\n",
    "cv2.destroyAllWindows()"
   ]
  },
  {
   "cell_type": "code",
   "execution_count": null,
   "metadata": {},
   "outputs": [],
   "source": []
  },
  {
   "cell_type": "code",
   "execution_count": null,
   "metadata": {},
   "outputs": [],
   "source": []
  }
 ],
 "metadata": {
  "kernelspec": {
   "display_name": "Python 3",
   "language": "python",
   "name": "python3"
  },
  "language_info": {
   "codemirror_mode": {
    "name": "ipython",
    "version": 3
   },
   "file_extension": ".py",
   "mimetype": "text/x-python",
   "name": "python",
   "nbconvert_exporter": "python",
   "pygments_lexer": "ipython3",
   "version": "3.7.7"
  }
 },
 "nbformat": 4,
 "nbformat_minor": 4
}
