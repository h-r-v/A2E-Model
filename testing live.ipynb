{
 "cells": [
  {
   "cell_type": "code",
   "execution_count": null,
   "metadata": {},
   "outputs": [],
   "source": [
    "'''\n",
    "https://github.com/vedantagarwal4\n",
    "https://github.com/h-r-v\n",
    "'''"
   ]
  },
  {
   "cell_type": "code",
   "execution_count": 7,
   "metadata": {},
   "outputs": [],
   "source": [
    "import cv2\n",
    "import os\n",
    "import matplotlib.pyplot as plt\n",
    "import numpy as np\n",
    "from tensorflow import keras"
   ]
  },
  {
   "cell_type": "code",
   "execution_count": 8,
   "metadata": {},
   "outputs": [
    {
     "name": "stdout",
     "output_type": "stream",
     "text": [
      "Model: \"sequential\"\n",
      "_________________________________________________________________\n",
      "Layer (type)                 Output Shape              Param #   \n",
      "=================================================================\n",
      "vgg16 (Model)                (None, 512)               14714688  \n",
      "_________________________________________________________________\n",
      "flatten (Flatten)            (None, 512)               0         \n",
      "_________________________________________________________________\n",
      "dense (Dense)                (None, 128)               65664     \n",
      "_________________________________________________________________\n",
      "activation (Activation)      (None, 128)               0         \n",
      "_________________________________________________________________\n",
      "dropout (Dropout)            (None, 128)               0         \n",
      "_________________________________________________________________\n",
      "dense_1 (Dense)              (None, 26)                3354      \n",
      "_________________________________________________________________\n",
      "activation_1 (Activation)    (None, 26)                0         \n",
      "=================================================================\n",
      "Total params: 14,783,706\n",
      "Trainable params: 69,018\n",
      "Non-trainable params: 14,714,688\n",
      "_________________________________________________________________\n"
     ]
    }
   ],
   "source": [
    "modelname = \"VGG16--92--08-03-03-11.h5\"\n",
    "modeldir = os.path.join(\"Models\",modelname)\n",
    "model = keras.models.load_model(modeldir)\n",
    "model.summary()"
   ]
  },
  {
   "cell_type": "code",
   "execution_count": 9,
   "metadata": {},
   "outputs": [],
   "source": [
    "cap = cv2.VideoCapture(0)\n",
    "\n",
    "while(True):\n",
    "    \n",
    "    ret,frame = cap.read()\n",
    "    \n",
    "    start_point = (430,50)\n",
    "    width = 200\n",
    "    end_point = (start_point[0]+width, start_point[1]+width) \n",
    "    \n",
    "    cv2.rectangle(frame, start_point, end_point, (0, 255, 255), 2)\n",
    "    \n",
    "    roi = cv2.resize( frame[start_point[1]:end_point[1],start_point[0]:end_point[0]], ( 100, 100))\n",
    "    roi = np.reshape( roi, (1,100,100,3))/255\n",
    "\n",
    "    prediction = chr(np.argmax(model.predict(roi)) + ord('A'))\n",
    "    \n",
    "    frame = cv2.putText( frame, prediction, (50,50), cv2.FONT_HERSHEY_SIMPLEX , 1, (0, 255, 255), 2, cv2.LINE_AA) \n",
    "    \n",
    "    cv2.imshow( \"Testing\", frame)\n",
    "    \n",
    "    k = cv2.waitKey(1)\n",
    "    if k%256 == 27:\n",
    "        break;\n",
    "\n",
    "cap.release()\n",
    "cv2.destroyAllWindows()"
   ]
  },
  {
   "cell_type": "code",
   "execution_count": null,
   "metadata": {},
   "outputs": [],
   "source": []
  }
 ],
 "metadata": {
  "kernelspec": {
   "display_name": "Python 3",
   "language": "python",
   "name": "python3"
  },
  "language_info": {
   "codemirror_mode": {
    "name": "ipython",
    "version": 3
   },
   "file_extension": ".py",
   "mimetype": "text/x-python",
   "name": "python",
   "nbconvert_exporter": "python",
   "pygments_lexer": "ipython3",
   "version": "3.7.7"
  }
 },
 "nbformat": 4,
 "nbformat_minor": 4
}
